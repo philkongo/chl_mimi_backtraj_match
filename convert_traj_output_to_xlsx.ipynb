{
 "cells": [
  {
   "cell_type": "code",
   "execution_count": null,
   "id": "b843939a-edfa-4467-84bd-a34654bbe58e",
   "metadata": {},
   "outputs": [],
   "source": [
    "# convert trajectory data into single csvs for each day\n",
    "import pandas as pd\n",
    "import datetime\n",
    "\n",
    "date_csv = pd.read_csv('/Users/poopy/Documents/py/data/east/trajectories_date.csv')\n",
    "# Combine the individual columns into a new column 'datetime'\n",
    "date_csv['datetime'] = pd.to_datetime(date_csv[['year', 'month', 'day', 'hour', 'minute', 'second']])\n",
    "\n",
    "# Optionally, you can drop the individual columns if you no longer need them\n",
    "date_csv = date_csv.drop(['year', 'month', 'day', 'hour', 'minute', 'second'], axis=1)\n",
    "print(date_csv)\n",
    "# Save the modified DataFrame back to a CSV file if needed\n",
    "date_csv.to_csv(FILEPATH TO CONVERTED DATE FILE, index=False)"
   ]
  },
  {
   "cell_type": "code",
   "execution_count": null,
   "id": "c3669c6a-42c8-47f1-9973-30087ceb9f2a",
   "metadata": {},
   "outputs": [],
   "source": [
    "import pandas as pd\n",
    "import datetime as dt\n",
    "\n",
    "# read the csv files for lat and lon\n",
    "lat_csv = pd.read_csv(FILEPATH TO LAT FILE)\n",
    "lon_csv = pd.read_csv(FILEPATH TO LON FILE)\n",
    "date_csv = pd.read_csv(FILEPATH TO CONVERTED DATE FILE)\n",
    "\n",
    "# Parse 'datetime' column as datetime objects\n",
    "date_csv['datetime'] = pd.to_datetime(date_csv['datetime'])\n",
    "\n",
    "# Create an ExcelWriter object\n",
    "excel_writer = pd.ExcelWriter('FILEPATH TO OUTPUT/bloom_oscar_combined.xlsx', engine='xlsxwriter')\n",
    "\n",
    "# Loop through each column in latitude and longitude DataFrames\n",
    "for col_number in range(900):  # Assuming you have 100 columns\n",
    "    # Create a new DataFrame combining datetime, latitude, and longitude for each column\n",
    "    traj_df = pd.DataFrame({\n",
    "        'datetime': date_csv['datetime'],\n",
    "        'Latitude': lat_csv.iloc[:, col_number],\n",
    "        'Longitude': lon_csv.iloc[:, col_number],\n",
    "    })\n",
    "\n",
    "    # Export the DataFrame to the Excel file as a separate sheet\n",
    "    sheet_name = f'{col_number + 1}'\n",
    "    traj_df.to_excel(excel_writer, sheet_name=sheet_name, index=False)\n",
    "\n",
    "# Save and close the ExcelWriter\n",
    "excel_writer.close()"
   ]
  }
 ],
 "metadata": {
  "kernelspec": {
   "display_name": "Python 3 (ipykernel)",
   "language": "python",
   "name": "python3"
  },
  "language_info": {
   "codemirror_mode": {
    "name": "ipython",
    "version": 3
   },
   "file_extension": ".py",
   "mimetype": "text/x-python",
   "name": "python",
   "nbconvert_exporter": "python",
   "pygments_lexer": "ipython3",
   "version": "3.8.18"
  }
 },
 "nbformat": 4,
 "nbformat_minor": 5
}
